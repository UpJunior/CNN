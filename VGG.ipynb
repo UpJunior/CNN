{
 "cells": [
  {
   "cell_type": "code",
   "execution_count": 38,
   "metadata": {},
   "outputs": [],
   "source": [
    "import tensorflow as tf\n",
    "import numpy as np\n",
    "from PIL import Image"
   ]
  },
  {
   "cell_type": "code",
   "execution_count": 49,
   "metadata": {
    "scrolled": false
   },
   "outputs": [
    {
     "name": "stdout",
     "output_type": "stream",
     "text": [
      "[[221 221 222 ... 197 198 199]\n",
      " [221 222 222 ... 198 197 197]\n",
      " [224 224 225 ... 198 197 195]\n",
      " ...\n",
      " [203 203 203 ... 230 228 225]\n",
      " [205 205 205 ... 226 225 223]\n",
      " [203 203 206 ... 218 219 224]] 0\n",
      "[[222 222 223 ... 200 201 202]\n",
      " [222 223 223 ... 201 200 200]\n",
      " [225 225 226 ... 201 200 198]\n",
      " ...\n",
      " [185 185 185 ... 218 216 213]\n",
      " [187 187 187 ... 214 213 211]\n",
      " [185 185 188 ... 202 205 208]] 1\n",
      "[[216 216 217 ... 205 206 207]\n",
      " [216 217 217 ... 206 205 205]\n",
      " [219 219 220 ... 206 205 203]\n",
      " ...\n",
      " [181 181 181 ... 218 216 213]\n",
      " [183 183 183 ... 214 213 211]\n",
      " [183 183 186 ... 202 202 208]]\n"
     ]
    }
   ],
   "source": [
    "image_SIZE = 224 # image size\n",
    "def load_image(path):\n",
    "    # load image\n",
    "    img = Image.open(path)\n",
    "    width, height = img.size\n",
    "    if(width > image_SIZE and height > image_SIZE):\n",
    "        tmp_max = max(width, height)\n",
    "        tmp_min = min(width, height)\n",
    "        x = int((tmp_max - width)/2)\n",
    "        y = int((tmp_max - height)/2)\n",
    "        resized_img = img.crop((x, y, tmp_min+x, tmp_min+y))\n",
    "    resized_img = img.resize((image_SIZE, image_SIZE))\n",
    "    return resized_img\n",
    "\n",
    "def cov_layer(image,kernelmap_number):\n",
    "    #初始化kernelmap\n",
    "    kernel_map = tf.Variable(tf.random_normal\n",
    "                ([kernelmap_number,3,3,1]))\n",
    "    con_ans = tf.nn.conv2d(image,kernel_map,strides=[1, 1, 1, 1],padding='SAME')\n",
    "    return con_ans\n",
    "    \n",
    "    \n",
    "#with tf.device(\"/gpu:0\"): \n",
    "\n",
    "image = load_image(\"/home/linux/Desktop/test1/11.jpg\")\n",
    "red, green, blue = image.split()\n",
    "image_red = np.asarray(red)\n",
    "image_green = np.asarray(green)\n",
    "image_blue = np.asarray(blue)\n",
    "\n",
    "_inputRGB = tf.placeholder(tf.float32,\n",
    "                          [None,\n",
    "                          224,224,3])\n",
    "\n",
    "\n"
   ]
  },
  {
   "cell_type": "code",
   "execution_count": null,
   "metadata": {},
   "outputs": [],
   "source": [
    "\n"
   ]
  },
  {
   "cell_type": "code",
   "execution_count": 13,
   "metadata": {},
   "outputs": [],
   "source": []
  },
  {
   "cell_type": "code",
   "execution_count": null,
   "metadata": {},
   "outputs": [],
   "source": []
  },
  {
   "cell_type": "code",
   "execution_count": null,
   "metadata": {},
   "outputs": [],
   "source": []
  }
 ],
 "metadata": {
  "kernelspec": {
   "display_name": "Python 3",
   "language": "python",
   "name": "python3"
  },
  "language_info": {
   "codemirror_mode": {
    "name": "ipython",
    "version": 3
   },
   "file_extension": ".py",
   "mimetype": "text/x-python",
   "name": "python",
   "nbconvert_exporter": "python",
   "pygments_lexer": "ipython3",
   "version": "3.5.2"
  }
 },
 "nbformat": 4,
 "nbformat_minor": 2
}
