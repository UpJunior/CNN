{
 "cells": [
  {
   "cell_type": "code",
   "execution_count": 38,
   "metadata": {},
   "outputs": [],
   "source": [
    "import tensorflow as tf\n",
    "import numpy as np\n",
    "from PIL import Image"
   ]
  },
  {
   "cell_type": "code",
   "execution_count": 95,
   "metadata": {
    "scrolled": false
   },
   "outputs": [
    {
     "name": "stdout",
     "output_type": "stream",
     "text": [
      "Tensor(\"Conv2D_35:0\", shape=(1, 224, 224, 64), dtype=float32)\n"
     ]
    }
   ],
   "source": [
    "image_SIZE = 224 # image size\n",
    "image_PATH = \"/home/linux/Desktop/test1/11.jpg\"\n",
    "def load_image(path):\n",
    "    # load image\n",
    "    img = Image.open(path)\n",
    "    width, height = img.size\n",
    "    if(width > image_SIZE and height > image_SIZE):\n",
    "        tmp_max = max(width, height)\n",
    "        tmp_min = min(width, height)\n",
    "        x = int((tmp_max - width)/2)\n",
    "        y = int((tmp_max - height)/2)\n",
    "        resized_img = img.crop((x, y, tmp_min+x, tmp_min+y))\n",
    "    resized_img = img.resize((image_SIZE, image_SIZE))\n",
    "    return resized_img\n",
    "\n",
    "def cov_layer(image,kernelmap_number):\n",
    "    image=tf.image.convert_image_dtype(image,tf.float32)  \n",
    "    image = tf.reshape(image,[-1,image_SIZE,image_SIZE,3])\n",
    "     \n",
    "    #初始化kernelmap\n",
    "    kernel_map = tf.Variable(tf.random_normal  #卷积核初始化\n",
    "                ([3,3,3,kernelmap_number]))\n",
    "    con_ans = tf.nn.conv2d(image,kernel_map,strides=[1, 1, 1, 1],padding='SAME')\n",
    "    \n",
    "    return con_ans\n",
    " \n",
    "image_raw_data = tf.gfile.FastGFile(\"/home/linux/Desktop/test11.jpg\", 'rb').read()\n",
    "_inputRGB = tf.placeholder(tf.float32,    #_inputRGB 初始化\n",
    "                              [None,\n",
    "                              224,224,3])\n",
    "with tf.Session() as sess:    \n",
    "    #with tf.device(\"/gpu:0\"): \n",
    "    init = tf.global_variables_initializer()\n",
    "    sess.run(init)\n",
    "\n",
    "    img_data = tf.image.decode_jpeg(image_raw_data)\n",
    "    arr_red = cov_layer(img_data.eval(), 64)\n",
    "    #image = load_image(image_PATH)\n",
    "   \n",
    "    # red, green, blue = image.split()\n",
    "    # image_red = np.asarray(red)\n",
    "    # image_green = np.asarray(green)\n",
    "    # image_blue = np.asarray(blue)\n",
    "\n",
    "    #第一层\n",
    "    print (arr_red) \n",
    "    \n",
    "    # arr_green = cov_layer(image_green, 64)\n",
    "    # arr_blue = cov_layer(image_blue, 64)\n",
    "    # arr_img = arr_red + arr_green + arr_blue"
   ]
  },
  {
   "cell_type": "code",
   "execution_count": null,
   "metadata": {},
   "outputs": [],
   "source": [
    "\n"
   ]
  },
  {
   "cell_type": "code",
   "execution_count": 13,
   "metadata": {},
   "outputs": [],
   "source": []
  },
  {
   "cell_type": "code",
   "execution_count": null,
   "metadata": {},
   "outputs": [],
   "source": []
  },
  {
   "cell_type": "code",
   "execution_count": null,
   "metadata": {},
   "outputs": [],
   "source": []
  }
 ],
 "metadata": {
  "kernelspec": {
   "display_name": "Python 3",
   "language": "python",
   "name": "python3"
  },
  "language_info": {
   "codemirror_mode": {
    "name": "ipython",
    "version": 3
   },
   "file_extension": ".py",
   "mimetype": "text/x-python",
   "name": "python",
   "nbconvert_exporter": "python",
   "pygments_lexer": "ipython3",
   "version": "3.5.2"
  }
 },
 "nbformat": 4,
 "nbformat_minor": 2
}
